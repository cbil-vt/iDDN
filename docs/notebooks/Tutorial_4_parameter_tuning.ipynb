{
 "cells": [
  {
   "cell_type": "markdown",
   "metadata": {},
   "source": [
    "# Tutorial 4: tuning parameters for iDDN\n",
    "\n",
    "This tutorial shows how to tune the two hyperparameters using data driven cross validation based methods.\n",
    "Our approach is to first search for $\\lambda_1$, then based on the chosen value of $\\lambda_1$ to search for $\\lambda_2$.\n",
    "\n",
    "Although we also provide functions to jointly search $\\lambda_1$ and $\\lambda_2$ on a grid, due to computational reason, it is often not efficient when the network is large, so we will not discuss this option here. However, as you will see, it is straightforward to do that if desired. In addition, we also provide methods purely based on statistic and probability theory, which is very easy to calculate, but may not always be accurate enough. We will briefly talk about it.\n",
    "\n",
    "Again, it is important to note that the best choice of $\\lambda_1$ and $\\lambda_2$ often relies on domain knowledge. \n",
    "Those provided by cross validation may not reflect the underlying biological process. \n",
    "Therefore, we advise user to choose a range of parameters and plot networks to choose good parameters.\n",
    "\n",
    "Compared with the similar tutorial in the DDN3.0 package, now we 1) support iDDN (multi-omics with constraints), 2) support parallel computing for cross validation, and 3) include some tricks to handle large problems.\n",
    "\n",
    "We first import the necessary modules.\n"
   ]
  },
  {
   "cell_type": "code",
   "metadata": {
    "ExecuteTime": {
     "end_time": "2024-08-26T16:09:33.045515Z",
     "start_time": "2024-08-26T16:09:31.675905Z"
    }
   },
   "source": [
    "import numpy as np\n",
    "from iddn_data import load_data  # Load example data and images\n",
    "from iddn import parameter_tuning_iddn as parameter_tuning  # parameter tuning tools\n",
    "\n",
    "%load_ext autoreload\n",
    "%autoreload 2"
   ],
   "outputs": [],
   "execution_count": 1
  },
  {
   "metadata": {},
   "cell_type": "markdown",
   "source": "We load the data."
  },
  {
   "metadata": {},
   "cell_type": "markdown",
   "source": [
    "We use the same example as before. The parameter tuning supports parallel computing.\n",
    "As our example is small, one core (`cores=1`) is good enough. Using multiple core will not have clear benefits here. "
   ]
  },
  {
   "metadata": {
    "ExecuteTime": {
     "end_time": "2024-08-26T16:09:33.125325Z",
     "start_time": "2024-08-26T16:09:33.050501Z"
    }
   },
   "cell_type": "code",
   "source": [
    "example = load_data.load_example()\n",
    "dat1 = example[\"dat1\"]\n",
    "dat2 = example[\"dat2\"]\n",
    "dep_mat = example[\"dep_mat\"]\n",
    "\n",
    "cores = 1"
   ],
   "outputs": [],
   "execution_count": 2
  },
  {
   "metadata": {},
   "cell_type": "markdown",
   "source": [
    "## Step 1: search $\\lambda_1$ using cross validation\n",
    "\n",
    "We first keep $\\lambda_2$ fixed and scan $\\lambda_1$ to find the optimal value using cross validation.\n",
    "This allows us to efficiently work on larger networks (compared to using grid search for two parameters).\n",
    "\n",
    "Specifically, for each $\\lambda_1$, certain part (`ratio_val`) of the data (training set) is used to estimate the networks, and then for each node, the regression coefficients are calculated to use the values of all other nodes to estimate the value of this node.\n",
    "These regression models are then applied on the remaining part of the data (test set) to estimate each node using all other nodes, and we calculate the unexplained variance as the error measure.\n",
    "\n",
    "Therefore, we have an error value for each $\\lambda_1$. Since we repeat the cross validation for several time (`n_cv`), we have an associated standard error. This allows us to pick the optimal $\\lambda_1$, and optionally considers the uncertainty of estimation.\n",
    "\n",
    "Here we keep the $\\lambda_2$ value as 0.05, which is a typical value used in many cases.\n",
    "We search $\\lambda_1$ from 0.02 to 0.4, with a step size of 0.02.\n"
   ]
  },
  {
   "metadata": {
    "ExecuteTime": {
     "end_time": "2024-08-26T16:09:34.170582Z",
     "start_time": "2024-08-26T16:09:33.396653Z"
    }
   },
   "cell_type": "code",
   "source": "l1_list = np.arange(0.02, 0.401, 0.02)",
   "outputs": [],
   "execution_count": 3
  },
  {
   "metadata": {},
   "cell_type": "markdown",
   "source": [
    "Here we call the cross validation function. This function actually allows doing grid search if we input a list of $\\lambda_1$ as well as a list of $\\lambda_2$. We need to specify \n",
    "- `dat1` and `dat2`: the input data\n",
    "- `n_cv`: the repeats for cross validation\n",
    "- `ratio_val`: the ratio of data left out for validation (0.5 means 50%)\n",
    "- `lambda1_lst` and `lambda2_lst`: the list of parameters to search\n",
    "- `dep_mat`: the constraint matrix of iDDN\n",
    "- `cores`: the number of cores to use"
   ]
  },
  {
   "cell_type": "code",
   "metadata": {
    "ExecuteTime": {
     "end_time": "2024-08-26T16:09:57.320359Z",
     "start_time": "2024-08-26T16:09:34.774688Z"
    }
   },
   "source": [
    "val_err_l1 = parameter_tuning.cv_2d(\n",
    "    dat1,\n",
    "    dat2,\n",
    "    n_cv=5,\n",
    "    ratio_val=0.5, \n",
    "    lambda1_lst=l1_list,\n",
    "    lambda2_lst=[0.05],\n",
    "    dep_mat=dep_mat,\n",
    "    cores=cores,\n",
    ")"
   ],
   "outputs": [
    {
     "name": "stdout",
     "output_type": "stream",
     "text": [
      "0 0.02 0.05 s0\n",
      "0 0.04 0.05 s0\n",
      "0 0.06 0.05 s0\n",
      "0 0.08 0.05 s0\n",
      "0 0.1 0.05 s0\n",
      "0 0.12000000000000001 0.05 s0\n",
      "0 0.13999999999999999 0.05 s0\n",
      "0 0.16 0.05 s0\n",
      "0 0.18 0.05 s0\n",
      "0 0.19999999999999998 0.05 s0\n",
      "0 0.22 0.05 s0\n",
      "0 0.24 0.05 s0\n",
      "0 0.26 0.05 s0\n",
      "0 0.28 0.05 s0\n",
      "0 0.30000000000000004 0.05 s0\n",
      "0 0.32 0.05 s0\n",
      "0 0.34 0.05 s0\n",
      "0 0.36000000000000004 0.05 s0\n",
      "0 0.38 0.05 s0\n",
      "0 0.4 0.05 s0\n",
      "1 0.02 0.05 s0\n",
      "1 0.04 0.05 s0\n",
      "1 0.06 0.05 s0\n",
      "1 0.08 0.05 s0\n",
      "1 0.1 0.05 s0\n",
      "1 0.12000000000000001 0.05 s0\n",
      "1 0.13999999999999999 0.05 s0\n",
      "1 0.16 0.05 s0\n",
      "1 0.18 0.05 s0\n",
      "1 0.19999999999999998 0.05 s0\n",
      "1 0.22 0.05 s0\n",
      "1 0.24 0.05 s0\n",
      "1 0.26 0.05 s0\n",
      "1 0.28 0.05 s0\n",
      "1 0.30000000000000004 0.05 s0\n",
      "1 0.32 0.05 s0\n",
      "1 0.34 0.05 s0\n",
      "1 0.36000000000000004 0.05 s0\n",
      "1 0.38 0.05 s0\n",
      "1 0.4 0.05 s0\n",
      "2 0.02 0.05 s0\n",
      "2 0.04 0.05 s0\n",
      "2 0.06 0.05 s0\n",
      "2 0.08 0.05 s0\n",
      "2 0.1 0.05 s0\n",
      "2 0.12000000000000001 0.05 s0\n",
      "2 0.13999999999999999 0.05 s0\n",
      "2 0.16 0.05 s0\n",
      "2 0.18 0.05 s0\n",
      "2 0.19999999999999998 0.05 s0\n",
      "2 0.22 0.05 s0\n",
      "2 0.24 0.05 s0\n",
      "2 0.26 0.05 s0\n",
      "2 0.28 0.05 s0\n",
      "2 0.30000000000000004 0.05 s0\n",
      "2 0.32 0.05 s0\n",
      "2 0.34 0.05 s0\n",
      "2 0.36000000000000004 0.05 s0\n",
      "2 0.38 0.05 s0\n",
      "2 0.4 0.05 s0\n",
      "3 0.02 0.05 s0\n",
      "3 0.04 0.05 s0\n",
      "3 0.06 0.05 s0\n",
      "3 0.08 0.05 s0\n",
      "3 0.1 0.05 s0\n",
      "3 0.12000000000000001 0.05 s0\n",
      "3 0.13999999999999999 0.05 s0\n",
      "3 0.16 0.05 s0\n",
      "3 0.18 0.05 s0\n",
      "3 0.19999999999999998 0.05 s0\n",
      "3 0.22 0.05 s0\n",
      "3 0.24 0.05 s0\n",
      "3 0.26 0.05 s0\n",
      "3 0.28 0.05 s0\n",
      "3 0.30000000000000004 0.05 s0\n",
      "3 0.32 0.05 s0\n",
      "3 0.34 0.05 s0\n",
      "3 0.36000000000000004 0.05 s0\n",
      "3 0.38 0.05 s0\n",
      "3 0.4 0.05 s0\n",
      "4 0.02 0.05 s0\n",
      "4 0.04 0.05 s0\n",
      "4 0.06 0.05 s0\n",
      "4 0.08 0.05 s0\n",
      "4 0.1 0.05 s0\n",
      "4 0.12000000000000001 0.05 s0\n",
      "4 0.13999999999999999 0.05 s0\n",
      "4 0.16 0.05 s0\n",
      "4 0.18 0.05 s0\n",
      "4 0.19999999999999998 0.05 s0\n",
      "4 0.22 0.05 s0\n",
      "4 0.24 0.05 s0\n",
      "4 0.26 0.05 s0\n",
      "4 0.28 0.05 s0\n",
      "4 0.30000000000000004 0.05 s0\n",
      "4 0.32 0.05 s0\n",
      "4 0.34 0.05 s0\n",
      "4 0.36000000000000004 0.05 s0\n",
      "4 0.38 0.05 s0\n",
      "4 0.4 0.05 s0\n"
     ]
    }
   ],
   "execution_count": 4
  },
  {
   "metadata": {},
   "cell_type": "markdown",
   "source": [
    "The output (val_err_l1) is of shape (repeats of CV, number of lambda1, number of lambda2), and each element is the unexplained variance in the validation set.\n",
    "We can plot the curve with respect to the $\\lambda_1$ values. Here we need to `squeeze()` the `val_err_l1`, as the drawing function need the input to have shape (repeats of CV, number of lambda1 or lambda2)."
   ]
  },
  {
   "metadata": {
    "ExecuteTime": {
     "end_time": "2024-08-26T16:09:57.603966Z",
     "start_time": "2024-08-26T16:09:57.384187Z"
    }
   },
   "cell_type": "code",
   "source": [
    "# val_avg = np.mean(val_err_l1_1, axis=0)\n",
    "# val_std = np.std(val_err_l1_1, axis=0)\n",
    "parameter_tuning.plot_error_1d(val_err_l1.squeeze(), lambda_lst=l1_list)"
   ],
   "outputs": [
    {
     "data": {
      "text/plain": [
       "<Figure size 640x480 with 1 Axes>"
      ],
      "image/png": "[encoded data removed]"
     },
     "metadata": {},
     "output_type": "display_data"
    }
   ],
   "execution_count": 5
  },
  {
   "metadata": {},
   "cell_type": "markdown",
   "source": "As we can see, it is good to choose $\\lambda_1$ around 0.15."
  },
  {
   "metadata": {
    "ExecuteTime": {
     "end_time": "2024-08-26T16:09:57.714109Z",
     "start_time": "2024-08-26T16:09:57.636907Z"
    }
   },
   "cell_type": "code",
   "source": [
    "val_avg = np.mean(val_err_l1, axis=0)\n",
    "l1_est = l1_list[np.argmin(val_avg)]\n",
    "print(l1_est)"
   ],
   "outputs": [
    {
     "name": "stdout",
     "output_type": "stream",
     "text": [
      "0.13999999999999999\n"
     ]
    }
   ],
   "execution_count": 6
  },
  {
   "metadata": {},
   "cell_type": "markdown",
   "source": "We use the one-standard error rule, which gives 0.16. "
  },
  {
   "metadata": {
    "ExecuteTime": {
     "end_time": "2024-08-26T16:09:57.824723Z",
     "start_time": "2024-08-26T16:09:57.747560Z"
    }
   },
   "cell_type": "code",
   "source": "parameter_tuning.get_lambda_one_se_1d(val_err_l1.squeeze(), l1_list)",
   "outputs": [
    {
     "data": {
      "text/plain": [
       "0.16"
      ]
     },
     "execution_count": 7,
     "metadata": {},
     "output_type": "execute_result"
    }
   ],
   "execution_count": 7
  },
  {
   "metadata": {},
   "cell_type": "markdown",
   "source": [
    "Also note that, if the data is large (especially node size), we may wish to divide the search to two parts.\n",
    "First, we can search a wider range of $\\lambda_1$ with large step size.\n",
    "After we roughly know the range of good $\\lambda_1$ value, we can use a smaller range and finer step size."
   ]
  },
  {
   "metadata": {},
   "cell_type": "markdown",
   "source": [
    "## Step 2: search $\\lambda_2$ using cross validation\n",
    "\n",
    "We now search $\\lambda_2$ with $\\lambda_1$ fixed to be 0.15. The code is almost the same as the previous one.\n",
    "Usally, we do not need to search for too large $\\lambda_2$, and here an upper bound of 0.16 is sufficient."
   ]
  },
  {
   "metadata": {
    "ExecuteTime": {
     "end_time": "2024-08-26T16:09:57.918591Z",
     "start_time": "2024-08-26T16:09:57.857635Z"
    }
   },
   "cell_type": "code",
   "source": "l2_list = np.arange(0.01, 0.16, 0.01)",
   "outputs": [],
   "execution_count": 8
  },
  {
   "metadata": {
    "ExecuteTime": {
     "end_time": "2024-08-26T16:10:11.275054Z",
     "start_time": "2024-08-26T16:09:57.950710Z"
    }
   },
   "cell_type": "code",
   "source": [
    "val_err_l2 = parameter_tuning.cv_2d(\n",
    "    dat1,\n",
    "    dat2,\n",
    "    n_cv=5,\n",
    "    ratio_val=0.5, \n",
    "    lambda1_lst=[0.15],\n",
    "    lambda2_lst=l2_list,\n",
    "    dep_mat=dep_mat,\n",
    "    cores=cores,\n",
    ")"
   ],
   "outputs": [
    {
     "name": "stdout",
     "output_type": "stream",
     "text": [
      "0 0.15 0.01 s0\n",
      "0 0.15 0.02 s0\n",
      "0 0.15 0.03 s0\n",
      "0 0.15 0.04 s0\n",
      "0 0.15 0.05 s0\n",
      "0 0.15 0.060000000000000005 s0\n",
      "0 0.15 0.06999999999999999 s0\n",
      "0 0.15 0.08 s0\n",
      "0 0.15 0.09 s0\n",
      "0 0.15 0.09999999999999999 s0\n",
      "0 0.15 0.11 s0\n",
      "0 0.15 0.12 s0\n",
      "0 0.15 0.13 s0\n",
      "0 0.15 0.14 s0\n",
      "0 0.15 0.15000000000000002 s0\n",
      "1 0.15 0.01 s0\n",
      "1 0.15 0.02 s0\n",
      "1 0.15 0.03 s0\n",
      "1 0.15 0.04 s0\n",
      "1 0.15 0.05 s0\n",
      "1 0.15 0.060000000000000005 s0\n",
      "1 0.15 0.06999999999999999 s0\n",
      "1 0.15 0.08 s0\n",
      "1 0.15 0.09 s0\n",
      "1 0.15 0.09999999999999999 s0\n",
      "1 0.15 0.11 s0\n",
      "1 0.15 0.12 s0\n",
      "1 0.15 0.13 s0\n",
      "1 0.15 0.14 s0\n",
      "1 0.15 0.15000000000000002 s0\n",
      "2 0.15 0.01 s0\n",
      "2 0.15 0.02 s0\n",
      "2 0.15 0.03 s0\n",
      "2 0.15 0.04 s0\n",
      "2 0.15 0.05 s0\n",
      "2 0.15 0.060000000000000005 s0\n",
      "2 0.15 0.06999999999999999 s0\n",
      "2 0.15 0.08 s0\n",
      "2 0.15 0.09 s0\n",
      "2 0.15 0.09999999999999999 s0\n",
      "2 0.15 0.11 s0\n",
      "2 0.15 0.12 s0\n",
      "2 0.15 0.13 s0\n",
      "2 0.15 0.14 s0\n",
      "2 0.15 0.15000000000000002 s0\n",
      "3 0.15 0.01 s0\n",
      "3 0.15 0.02 s0\n",
      "3 0.15 0.03 s0\n",
      "3 0.15 0.04 s0\n",
      "3 0.15 0.05 s0\n",
      "3 0.15 0.060000000000000005 s0\n",
      "3 0.15 0.06999999999999999 s0\n",
      "3 0.15 0.08 s0\n",
      "3 0.15 0.09 s0\n",
      "3 0.15 0.09999999999999999 s0\n",
      "3 0.15 0.11 s0\n",
      "3 0.15 0.12 s0\n",
      "3 0.15 0.13 s0\n",
      "3 0.15 0.14 s0\n",
      "3 0.15 0.15000000000000002 s0\n",
      "4 0.15 0.01 s0\n",
      "4 0.15 0.02 s0\n",
      "4 0.15 0.03 s0\n",
      "4 0.15 0.04 s0\n",
      "4 0.15 0.05 s0\n",
      "4 0.15 0.060000000000000005 s0\n",
      "4 0.15 0.06999999999999999 s0\n",
      "4 0.15 0.08 s0\n",
      "4 0.15 0.09 s0\n",
      "4 0.15 0.09999999999999999 s0\n",
      "4 0.15 0.11 s0\n",
      "4 0.15 0.12 s0\n",
      "4 0.15 0.13 s0\n",
      "4 0.15 0.14 s0\n",
      "4 0.15 0.15000000000000002 s0\n"
     ]
    }
   ],
   "execution_count": 9
  },
  {
   "metadata": {},
   "cell_type": "markdown",
   "source": "Again, we can plot the error curves along $\\lambda_2$. And we can choose values from 0.04 to 0.06, considering the uncertainty."
  },
  {
   "metadata": {
    "ExecuteTime": {
     "end_time": "2024-08-26T16:10:11.546329Z",
     "start_time": "2024-08-26T16:10:11.324920Z"
    }
   },
   "cell_type": "code",
   "source": "parameter_tuning.plot_error_1d(val_err_l2.squeeze(), lambda_lst=l2_list)",
   "outputs": [
    {
     "data": {
      "text/plain": [
       "<Figure size 640x480 with 1 Axes>"
      ],
      "image/png": "[encoded data removed]"
     },
     "metadata": {},
     "output_type": "display_data"
    }
   ],
   "execution_count": 10
  },
  {
   "metadata": {
    "ExecuteTime": {
     "end_time": "2024-08-26T16:10:11.655407Z",
     "start_time": "2024-08-26T16:10:11.579241Z"
    }
   },
   "cell_type": "code",
   "source": [
    "val_avg = np.mean(val_err_l2, axis=0)\n",
    "l2_est = l2_list[np.argmin(val_avg)]\n",
    "print(l2_est)"
   ],
   "outputs": [
    {
     "name": "stdout",
     "output_type": "stream",
     "text": [
      "0.04\n"
     ]
    }
   ],
   "execution_count": 11
  },
  {
   "metadata": {},
   "cell_type": "markdown",
   "source": "We can also use the one standard error rule."
  },
  {
   "metadata": {
    "ExecuteTime": {
     "end_time": "2024-08-26T16:10:11.781466Z",
     "start_time": "2024-08-26T16:10:11.692294Z"
    }
   },
   "cell_type": "code",
   "source": "parameter_tuning.get_lambda_one_se_1d(val_err_l2.squeeze(), l2_list)",
   "outputs": [
    {
     "data": {
      "text/plain": [
       "0.05"
      ]
     },
     "execution_count": 12,
     "metadata": {},
     "output_type": "execute_result"
    }
   ],
   "execution_count": 12
  },
  {
   "metadata": {},
   "cell_type": "markdown",
   "source": [
    "## Alternative: use grid search for two hyperparameters\n",
    "\n",
    "As discussed above, we can use 2D grid search for different combinations of $\\lambda_1$ and $\\lambda_2$.\n",
    "This will usually take long time, and is not recommended unless the network (node number and sample size) is small."
   ]
  },
  {
   "metadata": {
    "ExecuteTime": {
     "end_time": "2024-08-26T16:10:11.890324Z",
     "start_time": "2024-08-26T16:10:11.814212Z"
    }
   },
   "cell_type": "code",
   "source": [
    "RUN_ME = False\n",
    "\n",
    "if RUN_ME:\n",
    "    l1_list = np.arange(0.02, 0.401, 0.02)\n",
    "    l2_list = np.arange(0.01, 0.16, 0.01)\n",
    "    val_err_2d = parameter_tuning.cv_2d(\n",
    "        dat1,\n",
    "        dat2,\n",
    "        n_cv=5,\n",
    "        ratio_val=0.5, \n",
    "        lambda1_lst=l1_list,\n",
    "        lambda2_lst=l2_list,\n",
    "        dep_mat=dep_mat,\n",
    "        cores=cores,\n",
    "    )\n",
    "    parameter_tuning.plot_error_2d(val_err_2d)"
   ],
   "outputs": [],
   "execution_count": 13
  },
  {
   "metadata": {},
   "cell_type": "markdown",
   "source": [
    "## Alternative: use statistical approaches\n",
    "\n",
    "We can also estimate $\\lambda_1$ and $\\lambda_2$ based on some statistics of the data.\n",
    "More details can be found in the DDN3.0 paper. Usually, these estimates are not accurate enough, and we suggest the above cross validation protocol."
   ]
  },
  {
   "metadata": {
    "ExecuteTime": {
     "end_time": "2024-08-26T16:10:12.001842Z",
     "start_time": "2024-08-26T16:10:11.924026Z"
    }
   },
   "cell_type": "code",
   "source": [
    "n = int((len(dat1) + len(dat2))/2)\n",
    "p = dat1.shape[1]\n",
    "alpha1 = 0.05\n",
    "alpha2 = 0.01\n",
    "\n",
    "# using the method in the M-B algorithm to estimate lambda1\n",
    "l1_est = parameter_tuning.get_lambda1_mb(alpha1, n, p, mthd=0)\n",
    "\n",
    "# using Bai's method in the UAI paper to estimate lambda2\n",
    "l2_est = parameter_tuning.get_lambda2_bai(dat1, dat2, alpha=alpha2)\n",
    "\n",
    "print(l1_est, l2_est)"
   ],
   "outputs": [
    {
     "name": "stdout",
     "output_type": "stream",
     "text": [
      "0.2711602723929704 0.08082354445935315\n"
     ]
    }
   ],
   "execution_count": 14
  }
 ],
 "metadata": {
  "kernelspec": {
   "display_name": "ai",
   "language": "python",
   "name": "python3"
  },
  "language_info": {
   "codemirror_mode": {
    "name": "ipython",
    "version": 3
   },
   "file_extension": ".py",
   "mimetype": "text/x-python",
   "name": "python",
   "nbconvert_exporter": "python",
   "pygments_lexer": "ipython3",
   "version": "3.11.7"
  }
 },
 "nbformat": 4,
 "nbformat_minor": 2
}
